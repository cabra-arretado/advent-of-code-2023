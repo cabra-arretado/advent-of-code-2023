{
 "cells": [
  {
   "cell_type": "code",
   "execution_count": null,
   "metadata": {},
   "outputs": [],
   "source": [
    "# Let's read a file\n",
    "file = '../../../inputs/day5_input.txt'\n",
    "given_example = \"\"\"seeds: 79 14 55 13\n",
    "\n",
    "\tseed-to-soil map:\n",
    "\t50 98 2\n",
    "\t52 50 48\n",
    "\n",
    "\tsoil-to-fertilizer map:\n",
    "\t0 15 37\n",
    "\t37 52 2\n",
    "\t39 0 15\n",
    "\n",
    "\tfertilizer-to-water map:\n",
    "\t49 53 8\n",
    "\t0 11 42\n",
    "\t42 0 7\n",
    "\t57 7 4\n",
    "\n",
    "\twater-to-light map:\n",
    "\t88 18 7\n",
    "\t18 25 70\n",
    "\n",
    "\tlight-to-temperature map:\n",
    "\t45 77 23\n",
    "\t81 45 19\n",
    "\t68 64 13\n",
    "\n",
    "\ttemperature-to-humidity map:\n",
    "\t0 69 1\n",
    "\t1 0 69\n",
    "\n",
    "\thumidity-to-location map:\n",
    "\t60 56 37\n",
    "\t56 93 4\"\"\"\n",
    "\n",
    "with open(file, 'r') as f:\n",
    "    data = f.read().strip().split('\\n\\n')"
   ]
  },
  {
   "cell_type": "code",
   "execution_count": null,
   "metadata": {},
   "outputs": [],
   "source": [
    "def get_seeds(data_chunk):\n",
    "    data_chunk = data_chunk.split('seeds: ')\n",
    "    data_chunk = data_chunk[1].split(' ')\n",
    "    return data_chunk\n",
    "\n",
    "def get_instructions(data_chunk):\n",
    "    data_chunk.strip()\n",
    "    data_chunk = data_chunk.split('\\n')\n",
    "    data_chunk = data_chunk[1:]\n",
    "    return data_chunk\n",
    "\n",
    "def get_all_instructions(data):\n",
    "    instructions = []\n",
    "    for chunk in data:\n",
    "        instructions.append(get_instructions(chunk))\n",
    "    return instructions[1:]"
   ]
  },
  {
   "cell_type": "code",
   "execution_count": null,
   "metadata": {},
   "outputs": [],
   "source": [
    "\n",
    "all_instructions = get_all_instructions(data[1:])\n",
    "all_instructions"
   ]
  }
 ],
 "metadata": {
  "kernelspec": {
   "display_name": "Python 3",
   "language": "python",
   "name": "python3"
  },
  "language_info": {
   "codemirror_mode": {
    "name": "ipython",
    "version": 3
   },
   "file_extension": ".py",
   "mimetype": "text/x-python",
   "name": "python",
   "nbconvert_exporter": "python",
   "pygments_lexer": "ipython3",
   "version": "3.9.6"
  }
 },
 "nbformat": 4,
 "nbformat_minor": 2
}
