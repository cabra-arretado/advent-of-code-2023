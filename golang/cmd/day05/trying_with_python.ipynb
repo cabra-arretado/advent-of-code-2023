{
 "cells": [
  {
   "cell_type": "code",
   "execution_count": null,
   "metadata": {},
   "outputs": [],
   "source": [
    "# Let's read a file\n",
    "file = '../../../inputs/day5_input.txt'\n",
    "given_example = \"\"\"seeds: 79 14 55 13\n",
    "\n",
    "\tseed-to-soil map:\n",
    "\t50 98 2\n",
    "\t52 50 48\n",
    "\n",
    "\tsoil-to-fertilizer map:\n",
    "\t0 15 37\n",
    "\t37 52 2\n",
    "\t39 0 15\n",
    "\n",
    "\tfertilizer-to-water map:\n",
    "\t49 53 8\n",
    "\t0 11 42\n",
    "\t42 0 7\n",
    "\t57 7 4\n",
    "\n",
    "\twater-to-light map:\n",
    "\t88 18 7\n",
    "\t18 25 70\n",
    "\n",
    "\tlight-to-temperature map:\n",
    "\t45 77 23\n",
    "\t81 45 19\n",
    "\t68 64 13\n",
    "\n",
    "\ttemperature-to-humidity map:\n",
    "\t0 69 1\n",
    "\t1 0 69\n",
    "\n",
    "\thumidity-to-location map:\n",
    "\t60 56 37\n",
    "\t56 93 4\"\"\"\n",
    "\n",
    "with open(file, 'r') as f:\n",
    "    data = f.read().split('\\n\\n')"
   ]
  },
  {
   "cell_type": "code",
   "execution_count": 16,
   "metadata": {},
   "outputs": [],
   "source": [
    "def get_seeds(data_chunk):\n",
    "    data_chunk = data_chunk.split('seeds: ')\n",
    "    data_chunk = data_chunk[1].split(' ')\n",
    "    return data_chunk\n",
    "\n",
    "def get_instructions(data_chunk):\n",
    "    data_chunk = data_chunk.split('\\n')\n",
    "    data_chunk = data_chunk[1:]\n",
    "    return data_chunk\n"
   ]
  },
  {
   "cell_type": "code",
   "execution_count": 18,
   "metadata": {},
   "outputs": [
    {
     "name": "stdout",
     "output_type": "stream",
     "text": [
      "['931304316 1786548802 232453384', '3500539319 2322065235 6421609', '496396007 147739714 266329192', '3169724489 768672891 39526579', '3689153715 1361862036 346985', '1936948751 3328259881 542896984', '3209251068 3154345676 173914205', '1163757700 2814318523 24125066', '2484210664 1362209021 231487475', '3991904247 2133571422 188493813', '1187882766 4045525873 83717994', '861951350 3084992710 69352966', '2715698139 2838443589 43714032', '3830303258 4025104215 20421658', '768672891 1268583577 93278459', '4180398060 2019002186 114569236', '3689500700 1593696496 10659519', '1271600760 808199470 460384107', '166497091 526585653 102729094', '3700160219 3894961176 130143039', '2966889400 2882157621 202835089', '147739714 414068906 18757377', '3850724916 4133608796 141179331', '2759412171 2328486844 183672918', '2479845735 4129243867 4364929', '3480360150 4274788127 20179169', '402636637 432826283 93759370', '3383165273 2717123646 97194877', '3506960928 1604356015 182192787', '269226185 629314747 133410452', '2943085089 3871156865 23804311', '1731984867 2512159762 204963884']\n"
     ]
    }
   ],
   "source": [
    "print(get_instructions(data[1]))"
   ]
  }
 ],
 "metadata": {
  "kernelspec": {
   "display_name": "Python 3",
   "language": "python",
   "name": "python3"
  },
  "language_info": {
   "codemirror_mode": {
    "name": "ipython",
    "version": 3
   },
   "file_extension": ".py",
   "mimetype": "text/x-python",
   "name": "python",
   "nbconvert_exporter": "python",
   "pygments_lexer": "ipython3",
   "version": "3.9.6"
  }
 },
 "nbformat": 4,
 "nbformat_minor": 2
}
