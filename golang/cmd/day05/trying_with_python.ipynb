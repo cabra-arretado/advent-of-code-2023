{
 "cells": [
  {
   "cell_type": "code",
   "execution_count": 1,
   "metadata": {},
   "outputs": [],
   "source": [
    "# Let's read a file\n",
    "file = '../../../inputs/day5_input.txt'\n",
    "given_example = \"\"\"seeds: 79 14 55 13\n",
    "\n",
    "\tseed-to-soil map:\n",
    "\t50 98 2\n",
    "\t52 50 48\n",
    "\n",
    "\tsoil-to-fertilizer map:\n",
    "\t0 15 37\n",
    "\t37 52 2\n",
    "\t39 0 15\n",
    "\n",
    "\tfertilizer-to-water map:\n",
    "\t49 53 8\n",
    "\t0 11 42\n",
    "\t42 0 7\n",
    "\t57 7 4\n",
    "\n",
    "\twater-to-light map:\n",
    "\t88 18 7\n",
    "\t18 25 70\n",
    "\n",
    "\tlight-to-temperature map:\n",
    "\t45 77 23\n",
    "\t81 45 19\n",
    "\t68 64 13\n",
    "\n",
    "\ttemperature-to-humidity map:\n",
    "\t0 69 1\n",
    "\t1 0 69\n",
    "\n",
    "\thumidity-to-location map:\n",
    "\t60 56 37\n",
    "\t56 93 4\"\"\"\n",
    "\n",
    "with open(file, 'r') as f:\n",
    "    data = f.read().strip().split('\\n\\n')"
   ]
  },
  {
   "cell_type": "code",
   "execution_count": null,
   "metadata": {},
   "outputs": [],
   "source": [
    "class SeedRange:\n",
    "    start = 0\n",
    "    end = 0 \n",
    "    def __init__(self, seed_range):\n",
    "        self.start = seed_range[0]\n",
    "        self.end = seed_range[1]\n",
    "\n",
    "    def __str__(self):\n",
    "        return f\"SeedRange(start={self.start}, end={self.end})\"\n",
    "\n",
    "class MappingFields:\n",
    "# Shape of the ranges\n",
    "# destinationStart, source start, range\n",
    "    source_start = 0\n",
    "    source_end = 0\n",
    "    destination_start = 0\n",
    "    map_range = 0\n",
    "    def __init__(self,destination_start, source_start, map_range):\n",
    "        self.source_start = source_start\n",
    "        self.destination_start = destination_start\n",
    "        self.map_range = map_range\n",
    "        self.source_end = source_start + map_range - 1\n",
    "\n",
    "    def __str__(self):\n",
    "        return f\"MappingFields(destination_start={self.destination_start}, source_start={self.source_start}, source_end={self.source_end}, map_range={self.map_range})\""
   ]
  },
  {
   "cell_type": "code",
   "execution_count": 3,
   "metadata": {},
   "outputs": [],
   "source": [
    "def get_seeds(data_chunk):\n",
    "    data_chunk = data_chunk.split('seeds: ')\n",
    "    data_chunk = data_chunk[1].split(' ')\n",
    "    all_seeds = []\n",
    "    seed_in_range = []\n",
    "    for number in data_chunk:\n",
    "        seed_in_range.append(int(number))\n",
    "        if len(seed_in_range) == 2:\n",
    "            all_seeds.append(seed_in_range)\n",
    "            seed_in_range = []\n",
    "    all_seeds = [SeedRange([i[0], i[0]+i[1]-1]) for i in all_seeds]\n",
    "    return all_seeds \n",
    "\n",
    "def get_instructions(data_chunk):\n",
    "    data_chunk.strip()\n",
    "    data_chunk = data_chunk.split('\\n')\n",
    "    data_chunk = data_chunk[1:]\n",
    "    all_lines = []\n",
    "    for line in data_chunk:\n",
    "        line = line.split(' ')\n",
    "        all_lines.append(MappingFields(int(line[0]), int(line[1]), int(line[2])))\n",
    "    return all_lines\n",
    "\n",
    "def get_all_instructions(data):\n",
    "    instructions = []\n",
    "    for chunk in data:\n",
    "        instructions.append(get_instructions(chunk))\n",
    "    return instructions[1:]"
   ]
  },
  {
   "cell_type": "code",
   "execution_count": null,
   "metadata": {},
   "outputs": [
    {
     "name": "stdout",
     "output_type": "stream",
     "text": [
      "[<__main__.MappingFields object at 0x10773bca0>, <__main__.MappingFields object at 0x10773b7f0>]\n"
     ]
    }
   ],
   "source": [
    "\n",
    "# all_instructions = get_all_instructions(data[1:])\n",
    "# all_instructions\n",
    "given_example = given_example.split('\\n\\n')\n",
    "\n",
    "# for i in get_seeds(given_example[0]):\n",
    "#     print(i)\n",
    "\n",
    "\n",
    "for ea in get_instructions(given_example[1]):\n",
    "    print(ea)\n",
    "\n",
    "\n",
    "# Shape of the ranges\n",
    "# destinationStart, source start, range"
   ]
  }
 ],
 "metadata": {
  "kernelspec": {
   "display_name": "Python 3",
   "language": "python",
   "name": "python3"
  },
  "language_info": {
   "codemirror_mode": {
    "name": "ipython",
    "version": 3
   },
   "file_extension": ".py",
   "mimetype": "text/x-python",
   "name": "python",
   "nbconvert_exporter": "python",
   "pygments_lexer": "ipython3",
   "version": "3.9.6"
  }
 },
 "nbformat": 4,
 "nbformat_minor": 2
}
