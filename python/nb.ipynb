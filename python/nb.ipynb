{
 "cells": [
  {
   "cell_type": "markdown",
   "metadata": {},
   "source": [
    "PART I"
   ]
  },
  {
   "cell_type": "code",
   "execution_count": 4,
   "metadata": {},
   "outputs": [],
   "source": [
    "i = \"\"\"\n",
    "467..114..\n",
    "...*......\n",
    "..35..633.\n",
    "......#...\n",
    "617*......\n",
    ".....+.58.\n",
    "..592.....\n",
    "......755.\n",
    "...$.*....\n",
    ".664.598..\n",
    "\"\"\"\n",
    "# answer 467835\n",
    "f_lines = i.strip().split('\\n')\n",
    "\n",
    "with open('input.txt') as f:\n",
    "    lines = f.read().strip().split('\\n')\n",
    "    f_lines = list(lines)"
   ]
  },
  {
   "cell_type": "code",
   "execution_count": 5,
   "metadata": {},
   "outputs": [],
   "source": [
    "rows = len(f_lines)\n",
    "cols = len(f_lines[0])\n",
    "ARROUND_FILDS = [ (-1, -1), (-1, 0), (-1, 1), (0, -1), (1, -1), (1, 0), (1, 1), (0, 1) ]\n",
    "\n",
    "def find_number(row, col, matrix):\n",
    "\tog_col = col\n",
    "\tnew_list = []\n",
    "\t# format row-col\n",
    "\tfirst_index = f'{row}-{col}'\n",
    "\n",
    "\t# <<<<\n",
    "\twhile col >= 0 and matrix[row][col].isdigit():\n",
    "\t\tnew_list.insert(0, matrix[row][col])\n",
    "\t\tfirst_index = f'{row}-{col}'\n",
    "\t\tcol -= 1\n",
    "\t# >>>>\n",
    "\tcol = og_col + 1\n",
    "\twhile col < cols and matrix[row][col].isdigit():\n",
    "\t\tnew_list.append(matrix[row][col])\n",
    "\t\tcol += 1\n",
    "\n",
    "\tif not new_list:\n",
    "\t\treturn 1\n",
    "\treturn first_index, int(''.join(new_list))\n",
    "\n",
    "\n",
    "def gear_ratio_processor(row, col, matrix):\n",
    "\t# return the number of times the * touches the numbers\n",
    "\trows = len(matrix)\n",
    "\tcols = len(matrix[0])\n",
    "\tgears = dict()\n",
    "\tfor i, j in ARROUND_FILDS:\n",
    "\t\tif row + i < 0 or col + j < 0:\n",
    "\t\t\tcontinue\n",
    "\t\tif row + i >= rows or col + j >= cols:\n",
    "\t\t\tcontinue\n",
    "\t\tif matrix[row + i][col + j].isdigit():\n",
    "\t\t\tfirst_index, full_number = find_number(row + i, col + j, matrix)\n",
    "\t\t\tgears.update({first_index: full_number})\n",
    "\n",
    "\tif len(gears) < 2:\n",
    "\t\treturn 0\n",
    "\tfrom functools import reduce\n",
    "\treturn reduce(lambda x, y: x * y, gears.values())\n"
   ]
  },
  {
   "cell_type": "code",
   "execution_count": 6,
   "metadata": {},
   "outputs": [
    {
     "name": "stdout",
     "output_type": "stream",
     "text": [
      "part 2: 84495585\n"
     ]
    }
   ],
   "source": [
    "total = 0\n",
    "\n",
    "row = 0\n",
    "while row < rows:\n",
    "    col = 0\n",
    "    while col < cols:\n",
    "        if f_lines[row][col] == '*':\n",
    "            total += gear_ratio_processor(row, col, f_lines)\n",
    "        col += 1\n",
    "    row += 1\n",
    "\n",
    "print(f\"part 2: {total}\")\n",
    "# too low : 25900058"
   ]
  }
 ],
 "metadata": {
  "kernelspec": {
   "display_name": "Python 3",
   "language": "python",
   "name": "python3"
  },
  "language_info": {
   "codemirror_mode": {
    "name": "ipython",
    "version": 3
   },
   "file_extension": ".py",
   "mimetype": "text/x-python",
   "name": "python",
   "nbconvert_exporter": "python",
   "pygments_lexer": "ipython3",
   "version": "3.12.2"
  }
 },
 "nbformat": 4,
 "nbformat_minor": 2
}
