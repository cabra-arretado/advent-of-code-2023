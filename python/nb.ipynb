{
 "cells": [
  {
   "cell_type": "markdown",
   "metadata": {},
   "source": [
    "PART I"
   ]
  },
  {
   "cell_type": "code",
   "execution_count": 1,
   "metadata": {},
   "outputs": [],
   "source": [
    "with open('input.txt') as f:\n",
    "    lines = f.read().strip().split('\\n')\n",
    "    f_lines = list(lines)"
   ]
  },
  {
   "cell_type": "code",
   "execution_count": 2,
   "metadata": {},
   "outputs": [],
   "source": [
    "rows = len(f_lines)\n",
    "cols = len(f_lines[0])\n",
    "ARROUND_FILDS = [ (-1, -1), (-1, 0), (-1, 1), (0, -1), (1, -1), (1, 0), (1, 1), (0, 1) ]\n",
    "\n",
    "def is_symbol(c) -> bool:\n",
    "# return true if c is not a number or a '.'\n",
    "\treturn not c.isdigit() and c != '.'\n",
    "\n",
    "def touches(row, col, matrix):\n",
    "# return True if the position (row, col) touches a symbol\n",
    "\trows = len(matrix)\n",
    "\tcols = len(matrix[0])\n",
    "\tfor i, j in ARROUND_FILDS:\n",
    "\t\tif row + i < 0 or col + j < 0:\n",
    "\t\t\tcontinue\n",
    "\t\tif row + i >= rows or col + j >= cols:\n",
    "\t\t\tcontinue\n",
    "\t\tif is_symbol(matrix[row + i][col + j]):\n",
    "\t\t\treturn True\n",
    "\treturn False"
   ]
  },
  {
   "cell_type": "code",
   "execution_count": 3,
   "metadata": {},
   "outputs": [
    {
     "name": "stdout",
     "output_type": "stream",
     "text": [
      "total: 544664, expected: 537732\n"
     ]
    }
   ],
   "source": [
    "touched = False\n",
    "acc = '0'\n",
    "total = 0\n",
    "\n",
    "row = 0\n",
    "while row < rows:\n",
    "    col = 0\n",
    "    acc = ''\n",
    "    while col < cols:\n",
    "        if f_lines[row][col].isdigit():\n",
    "            if not touched:\n",
    "                touched = touches(row, col, f_lines)\n",
    "            acc += f_lines[row][col]\n",
    "\n",
    "            if col == cols - 1 and touched:\n",
    "                # This is just in case it is the last number in the row and is digit\n",
    "                total += int(acc)   \n",
    "        else:\n",
    "            if touched and acc:\n",
    "                total += int(acc)\n",
    "            acc = ''\n",
    "            touched = False\n",
    "        col += 1\n",
    "    row += 1\n",
    "\n",
    "print(f\"part 1: {total}\")"
   ]
  }
 ],
 "metadata": {
  "kernelspec": {
   "display_name": "Python 3",
   "language": "python",
   "name": "python3"
  },
  "language_info": {
   "codemirror_mode": {
    "name": "ipython",
    "version": 3
   },
   "file_extension": ".py",
   "mimetype": "text/x-python",
   "name": "python",
   "nbconvert_exporter": "python",
   "pygments_lexer": "ipython3",
   "version": "3.12.2"
  }
 },
 "nbformat": 4,
 "nbformat_minor": 2
}
